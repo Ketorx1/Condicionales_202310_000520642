{
  "nbformat": 4,
  "nbformat_minor": 0,
  "metadata": {
    "colab": {
      "provenance": [],
      "authorship_tag": "ABX9TyPdPWssDCaQXsUmuWkAryf4",
      "include_colab_link": true
    },
    "kernelspec": {
      "name": "python3",
      "display_name": "Python 3"
    },
    "language_info": {
      "name": "python"
    }
  },
  "cells": [
    {
      "cell_type": "markdown",
      "metadata": {
        "id": "view-in-github",
        "colab_type": "text"
      },
      "source": [
        "<a href=\"https://colab.research.google.com/github/Ketorx1/Condicionales_202310_000520642/blob/main/Untitled4.ipynb\" target=\"_parent\"><img src=\"https://colab.research.google.com/assets/colab-badge.svg\" alt=\"Open In Colab\"/></a>"
      ]
    },
    {
      "cell_type": "code",
      "execution_count": null,
      "metadata": {
        "id": "q8uyYdDPCZDd"
      },
      "outputs": [],
      "source": []
    },
    {
      "cell_type": "markdown",
      "source": [
        "#Condicionales_202310#\n",
        "##Kevin Vogel Durango##\n",
        "###000520642###\n",
        "####kevin.vogel@upb.edu.co####\n"
      ],
      "metadata": {
        "id": "jbUs4uLTCuab"
      }
    },
    {
      "cell_type": "code",
      "source": [
        "#Digita expresiones para las notas obtenidas\n",
        "notas = float(input(\"digite las notas\"))\n",
        "#se utilizo condicionales para dar los intervalos de las notas y su expresion\n",
        "if notas >=4.5 and notas < 5.0:\n",
        "  print(\"sus notas excelentes\")\n",
        "elif notas >= 4.0 and notas < 4.5:\n",
        "  print(\"sus notas son buenas\")\n",
        "elif notas >= 3.0 and notas < 4.0:\n",
        "  print(\"sus notas son regulares\")\n",
        "elif notas >= 0 and notas < 3.0:\n",
        "  print(\"sus notas son malas\")\n",
        "else:\n",
        "  print(\"notas < 0  y > 5, error, digite valores de 0 a 5\")"
      ],
      "metadata": {
        "colab": {
          "base_uri": "https://localhost:8080/"
        },
        "id": "HlrIoawBCu_6",
        "outputId": "e07040d5-1436-4c0c-c9e3-213b60b5b683"
      },
      "execution_count": 6,
      "outputs": [
        {
          "output_type": "stream",
          "name": "stdout",
          "text": [
            "digite las notas9\n",
            "notas < 0  y > 5, error, digites valores de 0 a 5\n"
          ]
        }
      ]
    }
  ]
}